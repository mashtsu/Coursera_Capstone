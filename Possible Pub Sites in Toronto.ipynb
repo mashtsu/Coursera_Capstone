{
    "cells": [
        {
            "cell_type": "markdown",
            "metadata": {},
            "source": "# Abstract\n\nThe final IBM Capstone Project required that we work on a real dataset with the aim of providing students with a practical experience of what data scientists go through in the real world using Foursquare location data. The final assignment required that students define a business problem and target audience, describe the data and how it would be used to solve the problem, define a methodology and describe any exploratory data analysis and inferential statistical testing, present results and discuss observations, and finally provide a conclusion to the report to assist the target audience with decision making. The project will explore potential neighborhoods in Toronto to open an Irish pub.\n"
        },
        {
            "cell_type": "markdown",
            "metadata": {},
            "source": "# 1. Introduction\n\n## Background and Business Problem\nToronto is the provincial capital of Ontario and also the most populous city in Canada, with a population of 2,731,571 as per 2016 census. Toronto is a city that is rich in history, full of interesting events and cultural ethnicities that have made the city great. The diverse population of Toronto reflects its role as an important destination for immigrants to Canada. More than 50 percent of residents belong to a visible minority population group and over 200 distinct ethnic origins are represented among its inhabitants. Toronto is also popularly known as one of the biggest entertainment hubs of the country with a variety of bars, theatres, and restaurants representing a plethora of ethnic cultures. Among these bustling ethinic cultures, are the Irish Canadians, which Canada's Official Statistical office revealed that the Irish were the 4th largest ethnic group in Canada constituting 4,354,000 Canadians with full or partial Irish descent or 15% of the country's total population.\n\nA significant part of the Irish heritage enjoyed world over is the presence of Irish pubs. Irish pubs are characterised by a unique culture centred around a casual and friendly atmosphere, hearty food and drink, Irish sports, and traditional Irish music. Their widespread appeal has led to the Irish pub theme spreading around the world with a presence in African nations, Asian nations and even South American nations. Given the significant presence of the Irish community and Toronto being the entertainment hub of Canada, Toronto presents a great setting to start an Irish pub. This project will go through step by step process to make a decision whether it is a good idea to open an Irish pub. The neighborhoods in Toronto will be analyzed to identify the most profitable areas since the success of the pub depends on the people and ambience, represented largely in part by similar establishments in the same area. \n\n## Target Audience\nAudiences that would be interested in this project and the types of clients or groups who stand to benefit from this detailed analysis may include:\n\n1. Existing pub owners or franchise owners looking to expand into the Canadaian market can benefit from gaining insights through targeted placement of new branches that target the Irish community.  \n2. Prospective business owners looking to break into the hospitality industry and start their own business can benefit from insights derived from assessing the risks and benefits of certain locations.  \n3. Irish pub enthusiastss who wish to find neighborhoods with options for Irish pubs."
        },
        {
            "cell_type": "markdown",
            "metadata": {},
            "source": "## Data Description  \n\nTo carry out the analysis, secondary data was collected from different sources. The datasets used are are as follows:  \n\n* For data on the neighborhoods of Toronto, I used \u201cList of Postal code of Canada: M\u201d which was webscraped using wikipedia link https://en.wikipedia.org/wiki/List_of_postal_codes_of_Canada:_M. The page contains the name of each neighpborhood including the postal code and borough which I then wrangle, clean and read into a *pandas* dataframe so that it is structured. This dataframe provides the basis of the analysis and give an understanding of the Toronto landscape.  \n\n\n* For the dataset above to be complete, it required geographical coordinates to the mapped to each postal code. The geographical coodinates are pertinent to establishing clusters and the venue available in each cluster. For information on the geographical coordinates of the Toronto neighborhoods I used the csv file - https://cocl.us/Geospatial_data.  \n\n\n* Given that the project requires that we identify the most suitable areas to for an Irish pub, the dataset required information on the ethnic distribution of the Toronto population to identify areas that are more densely populated by Irish communities. To obtain this information I webscraped the Wikipedia page \u201cDemographics of Toronto\u201d using link https://en.m.wikipedia.org/wiki/Demographics_of_Toronto#Ethnic_diversity.  \n\n\n* To obtain information on venues present in the different loactions of Toronto, I used the Foursquare API which provides general information on the various venues such as their name, geographical location and category."
        },
        {
            "cell_type": "code",
            "execution_count": null,
            "metadata": {},
            "outputs": [],
            "source": ""
        }
    ],
    "metadata": {
        "kernelspec": {
            "display_name": "Python 3.6",
            "language": "python",
            "name": "python3"
        },
        "language_info": {
            "codemirror_mode": {
                "name": "ipython",
                "version": 3
            },
            "file_extension": ".py",
            "mimetype": "text/x-python",
            "name": "python",
            "nbconvert_exporter": "python",
            "pygments_lexer": "ipython3",
            "version": "3.6.8"
        }
    },
    "nbformat": 4,
    "nbformat_minor": 1
}